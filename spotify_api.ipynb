{
 "cells": [
  {
   "cell_type": "markdown",
   "metadata": {},
   "source": [
    "## BS_Homework4"
   ]
  },
  {
   "cell_type": "markdown",
   "metadata": {},
   "source": [
    "### Task 1: Spotify Web API"
   ]
  },
  {
   "cell_type": "markdown",
   "metadata": {},
   "source": [
    "#### Request an access token"
   ]
  },
  {
   "cell_type": "code",
   "execution_count": 48,
   "metadata": {},
   "outputs": [],
   "source": [
    "import requests\n",
    "import yaml\n",
    "import base64\n",
    "\n",
    "# load spotify acccess token from yaml file\n",
    "\n",
    "with open('secrets.yml') as f:\n",
    "    secrets = yaml.safe_load(f)\n",
    "\n",
    "client_id = secrets['CLIENT_ID'];\n",
    "client_secret = secrets['CLIENT_SECRET'];\n",
    "\n",
    "# Encode Client ID and Client Secret\n",
    "credentials = f\"{client_id}:{client_secret}\"\n",
    "credentials_encoded = base64.b64encode(credentials.encode()).decode()\n",
    "\n",
    "# The headers of the request must contain the following parameters:\n",
    "# Authorization: Basic <base64 encoded client_id:client_secret>\n",
    "# Content-Type: Set to application/x-www-form-urlencoded.\n",
    "headers = {\n",
    "\n",
    "    'Authorization': f'Basic {credentials_encoded}',\n",
    "    'Content-Type': 'application/x-www-form-urlencoded',\n",
    "\n",
    "    }\n",
    "\n",
    "# set the grant_type parameter to client_credentials\n",
    "data = {'grant_type': 'client_credentials'}\n",
    "url = 'https://accounts.spotify.com/api/token'\n",
    "\n",
    "# make a POST request\n",
    "post_r = requests.post(url, headers=headers, data=data)"
   ]
  },
  {
   "cell_type": "code",
   "execution_count": 49,
   "metadata": {},
   "outputs": [
    {
     "name": "stdout",
     "output_type": "stream",
     "text": [
      "<Response [200]>\n"
     ]
    }
   ],
   "source": [
    "print(post_r)"
   ]
  },
  {
   "cell_type": "code",
   "execution_count": 50,
   "metadata": {},
   "outputs": [
    {
     "name": "stdout",
     "output_type": "stream",
     "text": [
      "{'access_token': 'BQDo3zdNEa1Jz-SKg4HFsCiXa_KWawAj7GYjTEepm_iJT2oknv792gfQjSn77GjGOirSShT44ZBMnRxXbZMli5J4PtNcjwP6Gqu3hfLWh6DpKQHaKQ8', 'token_type': 'Bearer', 'expires_in': 3600}\n"
     ]
    }
   ],
   "source": [
    "response = post_r.json()\n",
    "print(response)\n"
   ]
  },
  {
   "cell_type": "code",
   "execution_count": 51,
   "metadata": {},
   "outputs": [
    {
     "name": "stdout",
     "output_type": "stream",
     "text": [
      "BQDo3zdNEa1Jz-SKg4HFsCiXa_KWawAj7GYjTEepm_iJT2oknv792gfQjSn77GjGOirSShT44ZBMnRxXbZMli5J4PtNcjwP6Gqu3hfLWh6DpKQHaKQ8\n"
     ]
    }
   ],
   "source": [
    "print(response['access_token'])"
   ]
  },
  {
   "cell_type": "markdown",
   "metadata": {},
   "source": [
    "#### Request artist data"
   ]
  },
  {
   "cell_type": "code",
   "execution_count": 46,
   "metadata": {},
   "outputs": [
    {
     "name": "stdout",
     "output_type": "stream",
     "text": [
      "<Response [404]>\n"
     ]
    }
   ],
   "source": [
    "headers = {'Authorization': 'Bearer ' + response['access_token']}\n",
    "url = 'https://open.spotify.com/artist/4dpARuHxo51G3z768sgnrY'\n",
    "\n",
    "# make ge GET request\n",
    "r = requests.get(url, headers=headers)\n",
    "\n",
    "print(r)\n"
   ]
  },
  {
   "cell_type": "code",
   "execution_count": 54,
   "metadata": {},
   "outputs": [
    {
     "data": {
      "text/plain": [
       "{'external_urls': {'spotify': 'https://open.spotify.com/artist/4Z8W4fKeB5YxbusRsdQVPb'},\n",
       " 'followers': {'href': None, 'total': 9349885},\n",
       " 'genres': ['alternative rock',\n",
       "  'art rock',\n",
       "  'melancholia',\n",
       "  'oxford indie',\n",
       "  'permanent wave',\n",
       "  'rock'],\n",
       " 'href': 'https://api.spotify.com/v1/artists/4Z8W4fKeB5YxbusRsdQVPb',\n",
       " 'id': '4Z8W4fKeB5YxbusRsdQVPb',\n",
       " 'images': [{'height': 640,\n",
       "   'url': 'https://i.scdn.co/image/ab6761610000e5eba03696716c9ee605006047fd',\n",
       "   'width': 640},\n",
       "  {'height': 320,\n",
       "   'url': 'https://i.scdn.co/image/ab67616100005174a03696716c9ee605006047fd',\n",
       "   'width': 320},\n",
       "  {'height': 160,\n",
       "   'url': 'https://i.scdn.co/image/ab6761610000f178a03696716c9ee605006047fd',\n",
       "   'width': 160}],\n",
       " 'name': 'Radiohead',\n",
       " 'popularity': 81,\n",
       " 'type': 'artist',\n",
       " 'uri': 'spotify:artist:4Z8W4fKeB5YxbusRsdQVPb'}"
      ]
     },
     "execution_count": 54,
     "metadata": {},
     "output_type": "execute_result"
    }
   ],
   "source": [
    "Taylor_swift = r.json()\n",
    "Taylor_swift"
   ]
  },
  {
   "cell_type": "markdown",
   "metadata": {},
   "source": [
    "### Task 2: ntfy.sh"
   ]
  },
  {
   "cell_type": "code",
   "execution_count": null,
   "metadata": {},
   "outputs": [],
   "source": [
    "topicname = 'dsi_c2_brs'\n",
    "message = 'Hello world from Krystal'\n",
    "\n",
    "requests.post(f\"https://ntfy.sh/{topicname}\", \n",
    "    data=message.encode(encoding='utf-8'))"
   ]
  }
 ],
 "metadata": {
  "kernelspec": {
   "display_name": "base",
   "language": "python",
   "name": "python3"
  },
  "language_info": {
   "codemirror_mode": {
    "name": "ipython",
    "version": 3
   },
   "file_extension": ".py",
   "mimetype": "text/x-python",
   "name": "python",
   "nbconvert_exporter": "python",
   "pygments_lexer": "ipython3",
   "version": "3.11.5"
  }
 },
 "nbformat": 4,
 "nbformat_minor": 2
}
